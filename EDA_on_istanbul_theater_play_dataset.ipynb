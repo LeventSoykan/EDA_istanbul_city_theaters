{
 "cells": [
  {
   "cell_type": "code",
   "execution_count": 1,
   "id": "5ad72c6d",
   "metadata": {},
   "outputs": [],
   "source": [
    "#Import necessary modules\n",
    "import pandas as pd\n",
    "import numpy as np\n",
    "import matplotlib.pyplot as plt\n",
    "import seaborn as sns\n",
    "from sklearn.metrics import f1_score, accuracy_score\n",
    "from sklearn.metrics import classification_report\n",
    "from sklearn.ensemble import RandomForestClassifier\n",
    "from sklearn.preprocessing import StandardScaler\n",
    "from sklearn.model_selection import train_test_split"
   ]
  },
  {
   "cell_type": "markdown",
   "id": "8a8b7f58",
   "metadata": {},
   "source": [
    "## Exploring Dataset"
   ]
  },
  {
   "cell_type": "code",
   "execution_count": 2,
   "id": "7f231f86",
   "metadata": {},
   "outputs": [
    {
     "data": {
      "text/html": [
       "<div>\n",
       "<style scoped>\n",
       "    .dataframe tbody tr th:only-of-type {\n",
       "        vertical-align: middle;\n",
       "    }\n",
       "\n",
       "    .dataframe tbody tr th {\n",
       "        vertical-align: top;\n",
       "    }\n",
       "\n",
       "    .dataframe thead th {\n",
       "        text-align: right;\n",
       "    }\n",
       "</style>\n",
       "<table border=\"1\" class=\"dataframe\">\n",
       "  <thead>\n",
       "    <tr style=\"text-align: right;\">\n",
       "      <th></th>\n",
       "      <th>PLAY_DATE</th>\n",
       "      <th>PLAY_NAME</th>\n",
       "      <th>THEATER_NAME</th>\n",
       "      <th>PLAY_CATEGORY</th>\n",
       "      <th>IS_GUEST_PLAY</th>\n",
       "      <th>PLAY_TYPE</th>\n",
       "      <th>LONGITUDE</th>\n",
       "      <th>LATITUDE</th>\n",
       "      <th>NUMBER_OF_AUDIENCE</th>\n",
       "    </tr>\n",
       "  </thead>\n",
       "  <tbody>\n",
       "    <tr>\n",
       "      <th>0</th>\n",
       "      <td>2017-12-27</td>\n",
       "      <td>KARAGÖZ' ÜN UYKUSU</td>\n",
       "      <td>Gaziosmanpaşa Ferih Egemen Çocuk Tiyatrosu Sah...</td>\n",
       "      <td>Çocuk</td>\n",
       "      <td>0</td>\n",
       "      <td>Yerli</td>\n",
       "      <td>28.916482</td>\n",
       "      <td>41.057846</td>\n",
       "      <td>50</td>\n",
       "    </tr>\n",
       "    <tr>\n",
       "      <th>1</th>\n",
       "      <td>2019-03-28</td>\n",
       "      <td>ŞAHANE ZÜĞÜRTLER</td>\n",
       "      <td>Kadıköy Haldun Taner Sahnesi</td>\n",
       "      <td>Yetişkin</td>\n",
       "      <td>0</td>\n",
       "      <td>Yabancı</td>\n",
       "      <td>29.023408</td>\n",
       "      <td>40.991770</td>\n",
       "      <td>1</td>\n",
       "    </tr>\n",
       "    <tr>\n",
       "      <th>2</th>\n",
       "      <td>2017-11-30</td>\n",
       "      <td>BAK BİZİM ŞARKIMIZI ÇALIYORLAR</td>\n",
       "      <td>Kağıthane Sadabad Sahnesi</td>\n",
       "      <td>Müzikal</td>\n",
       "      <td>0</td>\n",
       "      <td>Yabancı</td>\n",
       "      <td>28.970972</td>\n",
       "      <td>41.079366</td>\n",
       "      <td>84</td>\n",
       "    </tr>\n",
       "    <tr>\n",
       "      <th>3</th>\n",
       "      <td>2020-01-24</td>\n",
       "      <td>ÇIN SABAHTA</td>\n",
       "      <td>Gaziosmanpaşa Sahnesi</td>\n",
       "      <td>Yetişkin</td>\n",
       "      <td>0</td>\n",
       "      <td>Yerli</td>\n",
       "      <td>28.916482</td>\n",
       "      <td>41.057846</td>\n",
       "      <td>46</td>\n",
       "    </tr>\n",
       "    <tr>\n",
       "      <th>4</th>\n",
       "      <td>2019-01-27</td>\n",
       "      <td>POLLYANNA</td>\n",
       "      <td>Kağıthane Sadabad Sahnesi</td>\n",
       "      <td>Çocuk</td>\n",
       "      <td>0</td>\n",
       "      <td>Yabancı</td>\n",
       "      <td>28.970972</td>\n",
       "      <td>41.079366</td>\n",
       "      <td>150</td>\n",
       "    </tr>\n",
       "  </tbody>\n",
       "</table>\n",
       "</div>"
      ],
      "text/plain": [
       "    PLAY_DATE                       PLAY_NAME  \\\n",
       "0  2017-12-27              KARAGÖZ' ÜN UYKUSU   \n",
       "1  2019-03-28                ŞAHANE ZÜĞÜRTLER   \n",
       "2  2017-11-30  BAK BİZİM ŞARKIMIZI ÇALIYORLAR   \n",
       "3  2020-01-24                     ÇIN SABAHTA   \n",
       "4  2019-01-27                       POLLYANNA   \n",
       "\n",
       "                                        THEATER_NAME PLAY_CATEGORY  \\\n",
       "0  Gaziosmanpaşa Ferih Egemen Çocuk Tiyatrosu Sah...         Çocuk   \n",
       "1                       Kadıköy Haldun Taner Sahnesi      Yetişkin   \n",
       "2                          Kağıthane Sadabad Sahnesi       Müzikal   \n",
       "3                              Gaziosmanpaşa Sahnesi      Yetişkin   \n",
       "4                          Kağıthane Sadabad Sahnesi         Çocuk   \n",
       "\n",
       "   IS_GUEST_PLAY PLAY_TYPE  LONGITUDE   LATITUDE  NUMBER_OF_AUDIENCE  \n",
       "0              0     Yerli  28.916482  41.057846                  50  \n",
       "1              0   Yabancı  29.023408  40.991770                   1  \n",
       "2              0   Yabancı  28.970972  41.079366                  84  \n",
       "3              0     Yerli  28.916482  41.057846                  46  \n",
       "4              0   Yabancı  28.970972  41.079366                 150  "
      ]
     },
     "execution_count": 2,
     "metadata": {},
     "output_type": "execute_result"
    }
   ],
   "source": [
    "df = pd.read_csv('data/theater_play.csv')\n",
    "df.head()"
   ]
  },
  {
   "cell_type": "code",
   "execution_count": 3,
   "id": "1ead5675",
   "metadata": {},
   "outputs": [
    {
     "data": {
      "text/plain": [
       "(27298, 9)"
      ]
     },
     "execution_count": 3,
     "metadata": {},
     "output_type": "execute_result"
    }
   ],
   "source": [
    "df.shape"
   ]
  },
  {
   "cell_type": "markdown",
   "id": "5dd7a044",
   "metadata": {},
   "source": [
    "### Missing Values"
   ]
  },
  {
   "cell_type": "code",
   "execution_count": 4,
   "id": "73667114",
   "metadata": {},
   "outputs": [
    {
     "data": {
      "text/plain": [
       "PLAY_DATE             0\n",
       "PLAY_NAME             0\n",
       "THEATER_NAME          1\n",
       "PLAY_CATEGORY         0\n",
       "IS_GUEST_PLAY         0\n",
       "PLAY_TYPE             0\n",
       "LONGITUDE             0\n",
       "LATITUDE              0\n",
       "NUMBER_OF_AUDIENCE    0\n",
       "dtype: int64"
      ]
     },
     "execution_count": 4,
     "metadata": {},
     "output_type": "execute_result"
    }
   ],
   "source": [
    "#Check Missing Values - Teather name is missing in one record\n",
    "df.isna().sum()"
   ]
  },
  {
   "cell_type": "code",
   "execution_count": 5,
   "id": "a15ebb0c",
   "metadata": {},
   "outputs": [
    {
     "data": {
      "text/plain": [
       "PLAY_DATE             0\n",
       "PLAY_NAME             0\n",
       "THEATER_NAME          0\n",
       "PLAY_CATEGORY         0\n",
       "IS_GUEST_PLAY         0\n",
       "PLAY_TYPE             0\n",
       "LONGITUDE             0\n",
       "LATITUDE              0\n",
       "NUMBER_OF_AUDIENCE    0\n",
       "dtype: int64"
      ]
     },
     "execution_count": 5,
     "metadata": {},
     "output_type": "execute_result"
    }
   ],
   "source": [
    "#Drop the row with missing value\n",
    "df.dropna(axis=0, inplace=True)\n",
    "df.isna().sum()"
   ]
  },
  {
   "cell_type": "markdown",
   "id": "0039086d",
   "metadata": {},
   "source": [
    "### Data Types"
   ]
  },
  {
   "cell_type": "code",
   "execution_count": 6,
   "id": "df03b7be",
   "metadata": {},
   "outputs": [
    {
     "data": {
      "text/plain": [
       "PLAY_DATE              object\n",
       "PLAY_NAME              object\n",
       "THEATER_NAME           object\n",
       "PLAY_CATEGORY          object\n",
       "IS_GUEST_PLAY           int64\n",
       "PLAY_TYPE              object\n",
       "LONGITUDE             float64\n",
       "LATITUDE              float64\n",
       "NUMBER_OF_AUDIENCE      int64\n",
       "dtype: object"
      ]
     },
     "execution_count": 6,
     "metadata": {},
     "output_type": "execute_result"
    }
   ],
   "source": [
    "#Check datatypes\n",
    "df.dtypes"
   ]
  },
  {
   "cell_type": "code",
   "execution_count": 7,
   "id": "1affe34a",
   "metadata": {},
   "outputs": [],
   "source": [
    "# Convert PLAY_DATE to Datetime Series\n",
    "df['PLAY_DATE'] = pd.to_datetime(df['PLAY_DATE'])"
   ]
  },
  {
   "cell_type": "markdown",
   "id": "71393783",
   "metadata": {},
   "source": [
    "### Numeric Variables"
   ]
  },
  {
   "cell_type": "code",
   "execution_count": 8,
   "id": "8507c106",
   "metadata": {},
   "outputs": [
    {
     "data": {
      "text/html": [
       "<div>\n",
       "<style scoped>\n",
       "    .dataframe tbody tr th:only-of-type {\n",
       "        vertical-align: middle;\n",
       "    }\n",
       "\n",
       "    .dataframe tbody tr th {\n",
       "        vertical-align: top;\n",
       "    }\n",
       "\n",
       "    .dataframe thead th {\n",
       "        text-align: right;\n",
       "    }\n",
       "</style>\n",
       "<table border=\"1\" class=\"dataframe\">\n",
       "  <thead>\n",
       "    <tr style=\"text-align: right;\">\n",
       "      <th></th>\n",
       "      <th>count</th>\n",
       "      <th>mean</th>\n",
       "      <th>std</th>\n",
       "      <th>min</th>\n",
       "      <th>25%</th>\n",
       "      <th>50%</th>\n",
       "      <th>75%</th>\n",
       "      <th>max</th>\n",
       "    </tr>\n",
       "  </thead>\n",
       "  <tbody>\n",
       "    <tr>\n",
       "      <th>IS_GUEST_PLAY</th>\n",
       "      <td>27297.0</td>\n",
       "      <td>0.041580</td>\n",
       "      <td>0.199630</td>\n",
       "      <td>0.000000</td>\n",
       "      <td>0.000000</td>\n",
       "      <td>0.000000</td>\n",
       "      <td>0.000000</td>\n",
       "      <td>1.000000</td>\n",
       "    </tr>\n",
       "    <tr>\n",
       "      <th>LONGITUDE</th>\n",
       "      <td>27297.0</td>\n",
       "      <td>28.986390</td>\n",
       "      <td>0.060750</td>\n",
       "      <td>28.876578</td>\n",
       "      <td>28.956194</td>\n",
       "      <td>28.988829</td>\n",
       "      <td>29.023408</td>\n",
       "      <td>29.104798</td>\n",
       "    </tr>\n",
       "    <tr>\n",
       "      <th>LATITUDE</th>\n",
       "      <td>27297.0</td>\n",
       "      <td>41.040190</td>\n",
       "      <td>0.030050</td>\n",
       "      <td>40.991770</td>\n",
       "      <td>41.017064</td>\n",
       "      <td>41.025025</td>\n",
       "      <td>41.057846</td>\n",
       "      <td>41.097745</td>\n",
       "    </tr>\n",
       "    <tr>\n",
       "      <th>NUMBER_OF_AUDIENCE</th>\n",
       "      <td>27297.0</td>\n",
       "      <td>66.655896</td>\n",
       "      <td>167.924858</td>\n",
       "      <td>1.000000</td>\n",
       "      <td>11.000000</td>\n",
       "      <td>32.000000</td>\n",
       "      <td>67.000000</td>\n",
       "      <td>3588.000000</td>\n",
       "    </tr>\n",
       "  </tbody>\n",
       "</table>\n",
       "</div>"
      ],
      "text/plain": [
       "                      count       mean         std        min        25%  \\\n",
       "IS_GUEST_PLAY       27297.0   0.041580    0.199630   0.000000   0.000000   \n",
       "LONGITUDE           27297.0  28.986390    0.060750  28.876578  28.956194   \n",
       "LATITUDE            27297.0  41.040190    0.030050  40.991770  41.017064   \n",
       "NUMBER_OF_AUDIENCE  27297.0  66.655896  167.924858   1.000000  11.000000   \n",
       "\n",
       "                          50%        75%          max  \n",
       "IS_GUEST_PLAY        0.000000   0.000000     1.000000  \n",
       "LONGITUDE           28.988829  29.023408    29.104798  \n",
       "LATITUDE            41.025025  41.057846    41.097745  \n",
       "NUMBER_OF_AUDIENCE  32.000000  67.000000  3588.000000  "
      ]
     },
     "execution_count": 8,
     "metadata": {},
     "output_type": "execute_result"
    }
   ],
   "source": [
    "df.describe().T"
   ]
  },
  {
   "cell_type": "markdown",
   "id": "d1519145",
   "metadata": {},
   "source": [
    "* Guest Play is a binary variable, showing whether a play is guest play or not. \n",
    "* Number of Audience has a mean of 66 and median of 32, with max value 3588. There seems to be outlier effect on this variable"
   ]
  },
  {
   "cell_type": "code",
   "execution_count": 9,
   "id": "663f1b83",
   "metadata": {},
   "outputs": [
    {
     "name": "stderr",
     "output_type": "stream",
     "text": [
      "C:\\Users\\TCLSOYKAN\\AppData\\Roaming\\Python\\Python39\\site-packages\\seaborn\\_decorators.py:36: FutureWarning: Pass the following variable as a keyword arg: x. From version 0.12, the only valid positional argument will be `data`, and passing other arguments without an explicit keyword will result in an error or misinterpretation.\n",
      "  warnings.warn(\n"
     ]
    },
    {
     "data": {
      "image/png": "[encoded data removed]",
      "text/plain": [
       "<Figure size 432x288 with 1 Axes>"
      ]
     },
     "metadata": {
      "needs_background": "light"
     },
     "output_type": "display_data"
    }
   ],
   "source": [
    "sns.boxplot(df['NUMBER_OF_AUDIENCE']);"
   ]
  },
  {
   "cell_type": "markdown",
   "id": "4ad3856e",
   "metadata": {},
   "source": [
    "### Detecting Outliers"
   ]
  },
  {
   "cell_type": "code",
   "execution_count": 10,
   "id": "16c22beb",
   "metadata": {},
   "outputs": [
    {
     "name": "stdout",
     "output_type": "stream",
     "text": [
      "Percentiles: 25th=11.000, 75th=67.000, IQR=56.000\n"
     ]
    }
   ],
   "source": [
    "# calculate interquartile range\n",
    "q25, q75 = np.percentile(df['NUMBER_OF_AUDIENCE'], 25), np.percentile(df['NUMBER_OF_AUDIENCE'], 75)\n",
    "iqr = q75 - q25\n",
    "print('Percentiles: 25th=%.3f, 75th=%.3f, IQR=%.3f' % (q25, q75, iqr))"
   ]
  },
  {
   "cell_type": "code",
   "execution_count": 11,
   "id": "68f01746",
   "metadata": {},
   "outputs": [
    {
     "name": "stdout",
     "output_type": "stream",
     "text": [
      "Identified outliers: 1924\n"
     ]
    }
   ],
   "source": [
    "# calculate the outlier cutoff\n",
    "cut_off = iqr * 1.5\n",
    "lower, upper = q25 - cut_off, q75 + cut_off\n",
    "# identify outliers\n",
    "outliers = [x for x in df['NUMBER_OF_AUDIENCE'] if x < lower or x > upper]\n",
    "print('Identified outliers: %d' % len(outliers))"
   ]
  },
  {
   "cell_type": "code",
   "execution_count": 12,
   "id": "4504e302",
   "metadata": {},
   "outputs": [
    {
     "data": {
      "text/plain": [
       "(27297, 9)"
      ]
     },
     "execution_count": 12,
     "metadata": {},
     "output_type": "execute_result"
    }
   ],
   "source": [
    "#Remove Outliers\n",
    "df[(df['NUMBER_OF_AUDIENCE']>=lower)&(df['NUMBER_OF_AUDIENCE']<=upper)]\n",
    "df.shape"
   ]
  },
  {
   "cell_type": "code",
   "execution_count": 13,
   "id": "10b828dc",
   "metadata": {},
   "outputs": [
    {
     "data": {
      "text/plain": [
       "(27297, 9)"
      ]
     },
     "execution_count": 13,
     "metadata": {},
     "output_type": "execute_result"
    }
   ],
   "source": [
    "df.shape"
   ]
  },
  {
   "cell_type": "code",
   "execution_count": 14,
   "id": "aae4a65e",
   "metadata": {},
   "outputs": [
    {
     "name": "stderr",
     "output_type": "stream",
     "text": [
      "C:\\Users\\TCLSOYKAN\\AppData\\Roaming\\Python\\Python39\\site-packages\\seaborn\\_decorators.py:36: FutureWarning: Pass the following variable as a keyword arg: x. From version 0.12, the only valid positional argument will be `data`, and passing other arguments without an explicit keyword will result in an error or misinterpretation.\n",
      "  warnings.warn(\n"
     ]
    },
    {
     "data": {
      "image/png": "[encoded data removed]",
      "text/plain": [
       "<Figure size 432x288 with 1 Axes>"
      ]
     },
     "metadata": {
      "needs_background": "light"
     },
     "output_type": "display_data"
    }
   ],
   "source": [
    "sns.boxplot(df['NUMBER_OF_AUDIENCE']);"
   ]
  },
  {
   "cell_type": "code",
   "execution_count": 15,
   "id": "91e73a91",
   "metadata": {},
   "outputs": [
    {
     "data": {
      "text/plain": [
       "count    27297.000000\n",
       "mean        66.655896\n",
       "std        167.924858\n",
       "min          1.000000\n",
       "25%         11.000000\n",
       "50%         32.000000\n",
       "75%         67.000000\n",
       "max       3588.000000\n",
       "Name: NUMBER_OF_AUDIENCE, dtype: float64"
      ]
     },
     "execution_count": 15,
     "metadata": {},
     "output_type": "execute_result"
    }
   ],
   "source": [
    "df['NUMBER_OF_AUDIENCE'].describe()"
   ]
  },
  {
   "cell_type": "markdown",
   "id": "599b1853",
   "metadata": {},
   "source": [
    "### Distribution of #Audience"
   ]
  },
  {
   "cell_type": "code",
   "execution_count": 16,
   "id": "0bbbb8a6",
   "metadata": {},
   "outputs": [
    {
     "data": {
      "image/png": "[encoded data removed]",
      "text/plain": [
       "<Figure size 432x288 with 1 Axes>"
      ]
     },
     "metadata": {
      "needs_background": "light"
     },
     "output_type": "display_data"
    }
   ],
   "source": [
    "plt.hist(df['NUMBER_OF_AUDIENCE'])\n",
    "plt.plot([df['NUMBER_OF_AUDIENCE'].mean() for _ in range(5000)], np.arange(5000), label='Mean')\n",
    "plt.plot([df['NUMBER_OF_AUDIENCE'].median() for _ in range(5000)], np.arange(5000), label='Median')\n",
    "plt.plot([df['NUMBER_OF_AUDIENCE'].mode() for _ in range(5000)], np.arange(5000), label='Mode')\n",
    "plt.legend();"
   ]
  },
  {
   "cell_type": "code",
   "execution_count": 17,
   "id": "1a5547da",
   "metadata": {},
   "outputs": [
    {
     "data": {
      "image/png": "[encoded data removed]",
      "text/plain": [
       "<Figure size 432x288 with 1 Axes>"
      ]
     },
     "metadata": {
      "needs_background": "light"
     },
     "output_type": "display_data"
    }
   ],
   "source": [
    "sns.kdeplot(df['NUMBER_OF_AUDIENCE'], fill=True);"
   ]
  },
  {
   "cell_type": "markdown",
   "id": "58ef08f2",
   "metadata": {},
   "source": [
    "This variable has a clear right tail distribution where most values are small but mean is affected by high values in tail"
   ]
  },
  {
   "cell_type": "code",
   "execution_count": 18,
   "id": "e75186aa",
   "metadata": {},
   "outputs": [
    {
     "data": {
      "image/png": "[encoded data removed]",
      "text/plain": [
       "<Figure size 1080x360 with 3 Axes>"
      ]
     },
     "metadata": {
      "needs_background": "light"
     },
     "output_type": "display_data"
    }
   ],
   "source": [
    "fig, axes = plt.subplots(1, 3, figsize=(15,5))\n",
    "for i, cat in enumerate(df['PLAY_CATEGORY'].unique()):\n",
    "    temp = df.loc[df['PLAY_CATEGORY']==cat,'NUMBER_OF_AUDIENCE']\n",
    "    axes[i].hist(temp)\n",
    "    axes[i].plot([temp.median() for _ in range(int(len(temp)/4))], np.arange(int(len(temp)/4)))\n",
    "    axes[i].set_title(cat)"
   ]
  },
  {
   "cell_type": "markdown",
   "id": "c0db54e1",
   "metadata": {},
   "source": [
    "* Total number of musicals are small compared to other categories\n",
    "* Median number of audience attending musicals is higher than other categories"
   ]
  },
  {
   "cell_type": "markdown",
   "id": "37055834",
   "metadata": {},
   "source": [
    "## Log Transformation\n",
    "\n",
    "* Log Transformation can be applied to this feature to reduce the effect of skewness(right tail) and get a distribution closer to normal"
   ]
  },
  {
   "cell_type": "code",
   "execution_count": 19,
   "id": "8b2a9a3d",
   "metadata": {},
   "outputs": [],
   "source": [
    "df['NUM_AUDIENCE_LOG'] = np.log(df['NUMBER_OF_AUDIENCE'].values)"
   ]
  },
  {
   "cell_type": "code",
   "execution_count": 20,
   "id": "9dfc0769",
   "metadata": {},
   "outputs": [
    {
     "data": {
      "text/plain": [
       "<AxesSubplot:xlabel='NUM_AUDIENCE_LOG', ylabel='Density'>"
      ]
     },
     "execution_count": 20,
     "metadata": {},
     "output_type": "execute_result"
    },
    {
     "data": {
      "image/png": "[encoded data removed]",
      "text/plain": [
       "<Figure size 432x288 with 1 Axes>"
      ]
     },
     "metadata": {
      "needs_background": "light"
     },
     "output_type": "display_data"
    }
   ],
   "source": [
    "sns.kdeplot(df['NUM_AUDIENCE_LOG'], fill=True)"
   ]
  },
  {
   "cell_type": "markdown",
   "id": "d4543018",
   "metadata": {},
   "source": [
    "## Play Date - Datetime"
   ]
  },
  {
   "cell_type": "code",
   "execution_count": 21,
   "id": "5d9bfa67",
   "metadata": {},
   "outputs": [],
   "source": [
    "# We can extract year, month and day info as new features\n",
    "df['PLAY_YEAR'] = df['PLAY_DATE'].dt.year\n",
    "df['PLAY_MONTH'] = df['PLAY_DATE'].dt.month"
   ]
  },
  {
   "cell_type": "code",
   "execution_count": 22,
   "id": "55784143",
   "metadata": {},
   "outputs": [],
   "source": [
    "t = pd.CategoricalDtype(categories=['Monday', 'Tuesday', 'Wednesday', 'Thursday', 'Friday', 'Saturday', 'Sunday'], ordered=True)\n",
    "df['PLAY_DAY'] = df['PLAY_DATE'].dt.strftime(\"%A\")\n",
    "df['PLAY_DAY'] = df['PLAY_DAY'].astype(t)"
   ]
  },
  {
   "cell_type": "code",
   "execution_count": 23,
   "id": "1dd9bd38",
   "metadata": {},
   "outputs": [
    {
     "data": {
      "image/png": "[encoded data removed]",
      "text/plain": [
       "<Figure size 432x288 with 1 Axes>"
      ]
     },
     "metadata": {
      "needs_background": "light"
     },
     "output_type": "display_data"
    }
   ],
   "source": [
    "data = df.groupby('PLAY_DAY')['NUMBER_OF_AUDIENCE'].median()\n",
    "sns.barplot(x=data.index, y=data)\n",
    "plt.xticks(rotation=45)\n",
    "plt.show()"
   ]
  },
  {
   "cell_type": "markdown",
   "id": "fc34b01e",
   "metadata": {},
   "source": [
    "Average audience is higher in mid_week (Tuesday to Thursday) "
   ]
  },
  {
   "cell_type": "code",
   "execution_count": 24,
   "id": "a7d0c84e",
   "metadata": {},
   "outputs": [
    {
     "data": {
      "image/png": "[encoded data removed]",
      "text/plain": [
       "<Figure size 432x288 with 1 Axes>"
      ]
     },
     "metadata": {
      "needs_background": "light"
     },
     "output_type": "display_data"
    }
   ],
   "source": [
    "data = df.groupby('PLAY_MONTH')['NUMBER_OF_AUDIENCE'].median()\n",
    "sns.barplot(x=data.index, y=data);"
   ]
  },
  {
   "cell_type": "markdown",
   "id": "d226d260",
   "metadata": {},
   "source": [
    "On monthly averages, June seems to be higher"
   ]
  },
  {
   "cell_type": "code",
   "execution_count": 25,
   "id": "f80ee6e9",
   "metadata": {},
   "outputs": [
    {
     "data": {
      "image/png": "[encoded data removed]",
      "text/plain": [
       "<Figure size 432x288 with 1 Axes>"
      ]
     },
     "metadata": {
      "needs_background": "light"
     },
     "output_type": "display_data"
    }
   ],
   "source": [
    "sns.countplot(x='PLAY_MONTH', data=df);"
   ]
  },
  {
   "cell_type": "markdown",
   "id": "8913a822",
   "metadata": {},
   "source": [
    "We can see that June is the end of season. There are a limited number of plays in June. Then the new season begins with September. "
   ]
  },
  {
   "cell_type": "markdown",
   "id": "92f72e9b",
   "metadata": {},
   "source": [
    "## Categorical Variables"
   ]
  },
  {
   "cell_type": "code",
   "execution_count": 26,
   "id": "72be96b2",
   "metadata": {},
   "outputs": [
    {
     "data": {
      "text/html": [
       "<div>\n",
       "<style scoped>\n",
       "    .dataframe tbody tr th:only-of-type {\n",
       "        vertical-align: middle;\n",
       "    }\n",
       "\n",
       "    .dataframe tbody tr th {\n",
       "        vertical-align: top;\n",
       "    }\n",
       "\n",
       "    .dataframe thead th {\n",
       "        text-align: right;\n",
       "    }\n",
       "</style>\n",
       "<table border=\"1\" class=\"dataframe\">\n",
       "  <thead>\n",
       "    <tr style=\"text-align: right;\">\n",
       "      <th></th>\n",
       "      <th>count</th>\n",
       "      <th>unique</th>\n",
       "      <th>top</th>\n",
       "      <th>freq</th>\n",
       "    </tr>\n",
       "  </thead>\n",
       "  <tbody>\n",
       "    <tr>\n",
       "      <th>PLAY_NAME</th>\n",
       "      <td>27297</td>\n",
       "      <td>350</td>\n",
       "      <td>KARINCALAR - BİR SAVAŞ VARDI</td>\n",
       "      <td>1025</td>\n",
       "    </tr>\n",
       "    <tr>\n",
       "      <th>THEATER_NAME</th>\n",
       "      <td>27297</td>\n",
       "      <td>77</td>\n",
       "      <td>Kağıthane Sadabad Sahnesi</td>\n",
       "      <td>3553</td>\n",
       "    </tr>\n",
       "    <tr>\n",
       "      <th>PLAY_CATEGORY</th>\n",
       "      <td>27297</td>\n",
       "      <td>3</td>\n",
       "      <td>Yetişkin</td>\n",
       "      <td>17348</td>\n",
       "    </tr>\n",
       "    <tr>\n",
       "      <th>PLAY_TYPE</th>\n",
       "      <td>27297</td>\n",
       "      <td>2</td>\n",
       "      <td>Yerli</td>\n",
       "      <td>15720</td>\n",
       "    </tr>\n",
       "  </tbody>\n",
       "</table>\n",
       "</div>"
      ],
      "text/plain": [
       "               count unique                           top   freq\n",
       "PLAY_NAME      27297    350  KARINCALAR - BİR SAVAŞ VARDI   1025\n",
       "THEATER_NAME   27297     77     Kağıthane Sadabad Sahnesi   3553\n",
       "PLAY_CATEGORY  27297      3                      Yetişkin  17348\n",
       "PLAY_TYPE      27297      2                         Yerli  15720"
      ]
     },
     "execution_count": 26,
     "metadata": {},
     "output_type": "execute_result"
    }
   ],
   "source": [
    "df.describe(include=object).T"
   ]
  },
  {
   "cell_type": "code",
   "execution_count": 27,
   "id": "87985d62",
   "metadata": {},
   "outputs": [
    {
     "data": {
      "text/plain": [
       "Kağıthane Sadabad Sahnesi                3553\n",
       "Fatih Reşat Nuri Sahnesi                 3364\n",
       "Gaziosmanpaşa Sahnesi                    3347\n",
       "Ümraniye Sahnesi                         3260\n",
       "Harbiye Muhsin Ertuğrul Sahnesi          3200\n",
       "                                         ... \n",
       " REHA ÖZCAN KUMPANYASI                      2\n",
       " TİYATRO 11                                 2\n",
       " BOĞAZİÇİ GÖSTERİ SANATLARI TOPLULUĞU       2\n",
       "ONLINE                                      1\n",
       " BU YAPIM                                   1\n",
       "Name: THEATER_NAME, Length: 77, dtype: int64"
      ]
     },
     "execution_count": 27,
     "metadata": {},
     "output_type": "execute_result"
    }
   ],
   "source": [
    "#There are lots of small theathers. \n",
    "df['THEATER_NAME'].value_counts()"
   ]
  },
  {
   "cell_type": "code",
   "execution_count": 28,
   "id": "89114edc",
   "metadata": {},
   "outputs": [],
   "source": [
    "#Take the first name of the teather\n",
    "df['THEATER_NAME'] = df['THEATER_NAME'].str.split().apply(lambda x : x[0])"
   ]
  },
  {
   "cell_type": "code",
   "execution_count": 29,
   "id": "c37381fd",
   "metadata": {},
   "outputs": [
    {
     "data": {
      "text/plain": [
       "Üsküdar          4497\n",
       "Kağıthane        4038\n",
       "Gaziosmanpaşa    3927\n",
       "Harbiye          3382\n",
       "Fatih            3364\n",
       "Ümraniye         3260\n",
       "Kadıköy          2528\n",
       "Sultangazi       1690\n",
       "Name: THEATER_NAME, dtype: int64"
      ]
     },
     "execution_count": 29,
     "metadata": {},
     "output_type": "execute_result"
    }
   ],
   "source": [
    "popular_theathers = df['THEATER_NAME'].value_counts()[df['THEATER_NAME'].value_counts()>100]\n",
    "popular_theathers"
   ]
  },
  {
   "cell_type": "code",
   "execution_count": 30,
   "id": "52bed524",
   "metadata": {},
   "outputs": [],
   "source": [
    "df = df[df['THEATER_NAME'].apply(lambda x: x in popular_theathers)]"
   ]
  },
  {
   "cell_type": "code",
   "execution_count": 31,
   "id": "b11c197f",
   "metadata": {},
   "outputs": [
    {
     "data": {
      "image/png": "[encoded data removed]",
      "text/plain": [
       "<Figure size 432x288 with 1 Axes>"
      ]
     },
     "metadata": {
      "needs_background": "light"
     },
     "output_type": "display_data"
    }
   ],
   "source": [
    "sns.countplot(x='PLAY_CATEGORY', hue='PLAY_TYPE', data=df);"
   ]
  },
  {
   "cell_type": "markdown",
   "id": "da70716a",
   "metadata": {},
   "source": [
    "Most plays are for adults. Most kids plays are local(domestic) plays, for other categories (adult, musical) foreign-domestic plays are balanced"
   ]
  },
  {
   "cell_type": "code",
   "execution_count": 32,
   "id": "ab3cd2b1",
   "metadata": {},
   "outputs": [
    {
     "data": {
      "image/png": "[encoded data removed]",
      "text/plain": [
       "<Figure size 432x288 with 1 Axes>"
      ]
     },
     "metadata": {
      "needs_background": "light"
     },
     "output_type": "display_data"
    }
   ],
   "source": [
    "data = df.groupby('PLAY_CATEGORY')['NUMBER_OF_AUDIENCE'].median()\n",
    "sns.barplot(x=data.index, y=data)\n",
    "plt.xticks(rotation=45)\n",
    "plt.show()"
   ]
  },
  {
   "cell_type": "markdown",
   "id": "9e18500e",
   "metadata": {},
   "source": [
    "Musicals have more attendance than other play categories"
   ]
  },
  {
   "cell_type": "code",
   "execution_count": 33,
   "id": "f1e471a8",
   "metadata": {},
   "outputs": [
    {
     "data": {
      "image/png": "[encoded data removed]",
      "text/plain": [
       "<Figure size 432x288 with 1 Axes>"
      ]
     },
     "metadata": {
      "needs_background": "light"
     },
     "output_type": "display_data"
    }
   ],
   "source": [
    "sns.countplot(x='THEATER_NAME', hue='PLAY_CATEGORY', data=df)\n",
    "plt.xticks(rotation=45);"
   ]
  },
  {
   "cell_type": "markdown",
   "id": "592e1f1d",
   "metadata": {},
   "source": [
    "Üsküdar-Fatih-Gaziosmanpasa theaters have more plays, while musical plays are mostly on Harbiye and Kagıthane"
   ]
  },
  {
   "cell_type": "code",
   "execution_count": 34,
   "id": "31253580",
   "metadata": {},
   "outputs": [
    {
     "data": {
      "image/png": "[encoded data removed]",
      "text/plain": [
       "<Figure size 432x288 with 1 Axes>"
      ]
     },
     "metadata": {
      "needs_background": "light"
     },
     "output_type": "display_data"
    }
   ],
   "source": [
    "data = df.groupby('THEATER_NAME')['NUMBER_OF_AUDIENCE'].median()\n",
    "sns.barplot(x=data.index, y=data)\n",
    "plt.xticks(rotation=45)\n",
    "plt.show()"
   ]
  },
  {
   "cell_type": "markdown",
   "id": "d1dcfe3d",
   "metadata": {},
   "source": [
    "Average number of audience in Harbiye, Ümraniye, Fatih, Kağıthane are higher.1 "
   ]
  },
  {
   "cell_type": "code",
   "execution_count": null,
   "id": "68565be2",
   "metadata": {},
   "outputs": [],
   "source": []
  },
  {
   "cell_type": "markdown",
   "id": "2b681b68",
   "metadata": {},
   "source": [
    "## Classification\n",
    "\n",
    "** Let's try to predict the play type using other variables. "
   ]
  },
  {
   "cell_type": "code",
   "execution_count": 35,
   "id": "edc0fc8b",
   "metadata": {},
   "outputs": [
    {
     "data": {
      "text/html": [
       "<div>\n",
       "<style scoped>\n",
       "    .dataframe tbody tr th:only-of-type {\n",
       "        vertical-align: middle;\n",
       "    }\n",
       "\n",
       "    .dataframe tbody tr th {\n",
       "        vertical-align: top;\n",
       "    }\n",
       "\n",
       "    .dataframe thead th {\n",
       "        text-align: right;\n",
       "    }\n",
       "</style>\n",
       "<table border=\"1\" class=\"dataframe\">\n",
       "  <thead>\n",
       "    <tr style=\"text-align: right;\">\n",
       "      <th></th>\n",
       "      <th>PLAY_DATE</th>\n",
       "      <th>PLAY_NAME</th>\n",
       "      <th>THEATER_NAME</th>\n",
       "      <th>PLAY_CATEGORY</th>\n",
       "      <th>IS_GUEST_PLAY</th>\n",
       "      <th>PLAY_TYPE</th>\n",
       "      <th>LONGITUDE</th>\n",
       "      <th>LATITUDE</th>\n",
       "      <th>NUMBER_OF_AUDIENCE</th>\n",
       "      <th>NUM_AUDIENCE_LOG</th>\n",
       "      <th>PLAY_YEAR</th>\n",
       "      <th>PLAY_MONTH</th>\n",
       "      <th>PLAY_DAY</th>\n",
       "    </tr>\n",
       "  </thead>\n",
       "  <tbody>\n",
       "    <tr>\n",
       "      <th>0</th>\n",
       "      <td>2017-12-27</td>\n",
       "      <td>KARAGÖZ' ÜN UYKUSU</td>\n",
       "      <td>Gaziosmanpaşa</td>\n",
       "      <td>Çocuk</td>\n",
       "      <td>0</td>\n",
       "      <td>Yerli</td>\n",
       "      <td>28.916482</td>\n",
       "      <td>41.057846</td>\n",
       "      <td>50</td>\n",
       "      <td>3.912023</td>\n",
       "      <td>2017</td>\n",
       "      <td>12</td>\n",
       "      <td>Wednesday</td>\n",
       "    </tr>\n",
       "    <tr>\n",
       "      <th>1</th>\n",
       "      <td>2019-03-28</td>\n",
       "      <td>ŞAHANE ZÜĞÜRTLER</td>\n",
       "      <td>Kadıköy</td>\n",
       "      <td>Yetişkin</td>\n",
       "      <td>0</td>\n",
       "      <td>Yabancı</td>\n",
       "      <td>29.023408</td>\n",
       "      <td>40.991770</td>\n",
       "      <td>1</td>\n",
       "      <td>0.000000</td>\n",
       "      <td>2019</td>\n",
       "      <td>3</td>\n",
       "      <td>Thursday</td>\n",
       "    </tr>\n",
       "    <tr>\n",
       "      <th>2</th>\n",
       "      <td>2017-11-30</td>\n",
       "      <td>BAK BİZİM ŞARKIMIZI ÇALIYORLAR</td>\n",
       "      <td>Kağıthane</td>\n",
       "      <td>Müzikal</td>\n",
       "      <td>0</td>\n",
       "      <td>Yabancı</td>\n",
       "      <td>28.970972</td>\n",
       "      <td>41.079366</td>\n",
       "      <td>84</td>\n",
       "      <td>4.430817</td>\n",
       "      <td>2017</td>\n",
       "      <td>11</td>\n",
       "      <td>Thursday</td>\n",
       "    </tr>\n",
       "    <tr>\n",
       "      <th>3</th>\n",
       "      <td>2020-01-24</td>\n",
       "      <td>ÇIN SABAHTA</td>\n",
       "      <td>Gaziosmanpaşa</td>\n",
       "      <td>Yetişkin</td>\n",
       "      <td>0</td>\n",
       "      <td>Yerli</td>\n",
       "      <td>28.916482</td>\n",
       "      <td>41.057846</td>\n",
       "      <td>46</td>\n",
       "      <td>3.828641</td>\n",
       "      <td>2020</td>\n",
       "      <td>1</td>\n",
       "      <td>Friday</td>\n",
       "    </tr>\n",
       "    <tr>\n",
       "      <th>4</th>\n",
       "      <td>2019-01-27</td>\n",
       "      <td>POLLYANNA</td>\n",
       "      <td>Kağıthane</td>\n",
       "      <td>Çocuk</td>\n",
       "      <td>0</td>\n",
       "      <td>Yabancı</td>\n",
       "      <td>28.970972</td>\n",
       "      <td>41.079366</td>\n",
       "      <td>150</td>\n",
       "      <td>5.010635</td>\n",
       "      <td>2019</td>\n",
       "      <td>1</td>\n",
       "      <td>Sunday</td>\n",
       "    </tr>\n",
       "  </tbody>\n",
       "</table>\n",
       "</div>"
      ],
      "text/plain": [
       "   PLAY_DATE                       PLAY_NAME   THEATER_NAME PLAY_CATEGORY  \\\n",
       "0 2017-12-27              KARAGÖZ' ÜN UYKUSU  Gaziosmanpaşa         Çocuk   \n",
       "1 2019-03-28                ŞAHANE ZÜĞÜRTLER        Kadıköy      Yetişkin   \n",
       "2 2017-11-30  BAK BİZİM ŞARKIMIZI ÇALIYORLAR      Kağıthane       Müzikal   \n",
       "3 2020-01-24                     ÇIN SABAHTA  Gaziosmanpaşa      Yetişkin   \n",
       "4 2019-01-27                       POLLYANNA      Kağıthane         Çocuk   \n",
       "\n",
       "   IS_GUEST_PLAY PLAY_TYPE  LONGITUDE   LATITUDE  NUMBER_OF_AUDIENCE  \\\n",
       "0              0     Yerli  28.916482  41.057846                  50   \n",
       "1              0   Yabancı  29.023408  40.991770                   1   \n",
       "2              0   Yabancı  28.970972  41.079366                  84   \n",
       "3              0     Yerli  28.916482  41.057846                  46   \n",
       "4              0   Yabancı  28.970972  41.079366                 150   \n",
       "\n",
       "   NUM_AUDIENCE_LOG  PLAY_YEAR  PLAY_MONTH   PLAY_DAY  \n",
       "0          3.912023       2017          12  Wednesday  \n",
       "1          0.000000       2019           3   Thursday  \n",
       "2          4.430817       2017          11   Thursday  \n",
       "3          3.828641       2020           1     Friday  \n",
       "4          5.010635       2019           1     Sunday  "
      ]
     },
     "execution_count": 35,
     "metadata": {},
     "output_type": "execute_result"
    }
   ],
   "source": [
    "df.head()"
   ]
  },
  {
   "cell_type": "markdown",
   "id": "8bc115aa",
   "metadata": {},
   "source": [
    "\n",
    "\n",
    "### Label Encoding for Binary Variable"
   ]
  },
  {
   "cell_type": "code",
   "execution_count": 36,
   "id": "c331a6ec",
   "metadata": {},
   "outputs": [],
   "source": [
    "df['PLAY_TYPE'] = df['PLAY_TYPE'].factorize()[0]"
   ]
  },
  {
   "cell_type": "code",
   "execution_count": 37,
   "id": "380721c3",
   "metadata": {},
   "outputs": [
    {
     "data": {
      "text/html": [
       "<div>\n",
       "<style scoped>\n",
       "    .dataframe tbody tr th:only-of-type {\n",
       "        vertical-align: middle;\n",
       "    }\n",
       "\n",
       "    .dataframe tbody tr th {\n",
       "        vertical-align: top;\n",
       "    }\n",
       "\n",
       "    .dataframe thead th {\n",
       "        text-align: right;\n",
       "    }\n",
       "</style>\n",
       "<table border=\"1\" class=\"dataframe\">\n",
       "  <thead>\n",
       "    <tr style=\"text-align: right;\">\n",
       "      <th></th>\n",
       "      <th>PLAY_DATE</th>\n",
       "      <th>PLAY_NAME</th>\n",
       "      <th>THEATER_NAME</th>\n",
       "      <th>PLAY_CATEGORY</th>\n",
       "      <th>IS_GUEST_PLAY</th>\n",
       "      <th>PLAY_TYPE</th>\n",
       "      <th>LONGITUDE</th>\n",
       "      <th>LATITUDE</th>\n",
       "      <th>NUMBER_OF_AUDIENCE</th>\n",
       "      <th>NUM_AUDIENCE_LOG</th>\n",
       "      <th>PLAY_YEAR</th>\n",
       "      <th>PLAY_MONTH</th>\n",
       "      <th>PLAY_DAY</th>\n",
       "    </tr>\n",
       "  </thead>\n",
       "  <tbody>\n",
       "    <tr>\n",
       "      <th>0</th>\n",
       "      <td>2017-12-27</td>\n",
       "      <td>KARAGÖZ' ÜN UYKUSU</td>\n",
       "      <td>Gaziosmanpaşa</td>\n",
       "      <td>Çocuk</td>\n",
       "      <td>0</td>\n",
       "      <td>0</td>\n",
       "      <td>28.916482</td>\n",
       "      <td>41.057846</td>\n",
       "      <td>50</td>\n",
       "      <td>3.912023</td>\n",
       "      <td>2017</td>\n",
       "      <td>12</td>\n",
       "      <td>Wednesday</td>\n",
       "    </tr>\n",
       "    <tr>\n",
       "      <th>1</th>\n",
       "      <td>2019-03-28</td>\n",
       "      <td>ŞAHANE ZÜĞÜRTLER</td>\n",
       "      <td>Kadıköy</td>\n",
       "      <td>Yetişkin</td>\n",
       "      <td>0</td>\n",
       "      <td>1</td>\n",
       "      <td>29.023408</td>\n",
       "      <td>40.991770</td>\n",
       "      <td>1</td>\n",
       "      <td>0.000000</td>\n",
       "      <td>2019</td>\n",
       "      <td>3</td>\n",
       "      <td>Thursday</td>\n",
       "    </tr>\n",
       "    <tr>\n",
       "      <th>2</th>\n",
       "      <td>2017-11-30</td>\n",
       "      <td>BAK BİZİM ŞARKIMIZI ÇALIYORLAR</td>\n",
       "      <td>Kağıthane</td>\n",
       "      <td>Müzikal</td>\n",
       "      <td>0</td>\n",
       "      <td>1</td>\n",
       "      <td>28.970972</td>\n",
       "      <td>41.079366</td>\n",
       "      <td>84</td>\n",
       "      <td>4.430817</td>\n",
       "      <td>2017</td>\n",
       "      <td>11</td>\n",
       "      <td>Thursday</td>\n",
       "    </tr>\n",
       "    <tr>\n",
       "      <th>3</th>\n",
       "      <td>2020-01-24</td>\n",
       "      <td>ÇIN SABAHTA</td>\n",
       "      <td>Gaziosmanpaşa</td>\n",
       "      <td>Yetişkin</td>\n",
       "      <td>0</td>\n",
       "      <td>0</td>\n",
       "      <td>28.916482</td>\n",
       "      <td>41.057846</td>\n",
       "      <td>46</td>\n",
       "      <td>3.828641</td>\n",
       "      <td>2020</td>\n",
       "      <td>1</td>\n",
       "      <td>Friday</td>\n",
       "    </tr>\n",
       "    <tr>\n",
       "      <th>4</th>\n",
       "      <td>2019-01-27</td>\n",
       "      <td>POLLYANNA</td>\n",
       "      <td>Kağıthane</td>\n",
       "      <td>Çocuk</td>\n",
       "      <td>0</td>\n",
       "      <td>1</td>\n",
       "      <td>28.970972</td>\n",
       "      <td>41.079366</td>\n",
       "      <td>150</td>\n",
       "      <td>5.010635</td>\n",
       "      <td>2019</td>\n",
       "      <td>1</td>\n",
       "      <td>Sunday</td>\n",
       "    </tr>\n",
       "  </tbody>\n",
       "</table>\n",
       "</div>"
      ],
      "text/plain": [
       "   PLAY_DATE                       PLAY_NAME   THEATER_NAME PLAY_CATEGORY  \\\n",
       "0 2017-12-27              KARAGÖZ' ÜN UYKUSU  Gaziosmanpaşa         Çocuk   \n",
       "1 2019-03-28                ŞAHANE ZÜĞÜRTLER        Kadıköy      Yetişkin   \n",
       "2 2017-11-30  BAK BİZİM ŞARKIMIZI ÇALIYORLAR      Kağıthane       Müzikal   \n",
       "3 2020-01-24                     ÇIN SABAHTA  Gaziosmanpaşa      Yetişkin   \n",
       "4 2019-01-27                       POLLYANNA      Kağıthane         Çocuk   \n",
       "\n",
       "   IS_GUEST_PLAY  PLAY_TYPE  LONGITUDE   LATITUDE  NUMBER_OF_AUDIENCE  \\\n",
       "0              0          0  28.916482  41.057846                  50   \n",
       "1              0          1  29.023408  40.991770                   1   \n",
       "2              0          1  28.970972  41.079366                  84   \n",
       "3              0          0  28.916482  41.057846                  46   \n",
       "4              0          1  28.970972  41.079366                 150   \n",
       "\n",
       "   NUM_AUDIENCE_LOG  PLAY_YEAR  PLAY_MONTH   PLAY_DAY  \n",
       "0          3.912023       2017          12  Wednesday  \n",
       "1          0.000000       2019           3   Thursday  \n",
       "2          4.430817       2017          11   Thursday  \n",
       "3          3.828641       2020           1     Friday  \n",
       "4          5.010635       2019           1     Sunday  "
      ]
     },
     "execution_count": 37,
     "metadata": {},
     "output_type": "execute_result"
    }
   ],
   "source": [
    "df.head()"
   ]
  },
  {
   "cell_type": "markdown",
   "id": "fec20c82",
   "metadata": {},
   "source": [
    "### One Hot Encoding"
   ]
  },
  {
   "cell_type": "code",
   "execution_count": 38,
   "id": "660757d5",
   "metadata": {},
   "outputs": [
    {
     "data": {
      "text/html": [
       "<div>\n",
       "<style scoped>\n",
       "    .dataframe tbody tr th:only-of-type {\n",
       "        vertical-align: middle;\n",
       "    }\n",
       "\n",
       "    .dataframe tbody tr th {\n",
       "        vertical-align: top;\n",
       "    }\n",
       "\n",
       "    .dataframe thead th {\n",
       "        text-align: right;\n",
       "    }\n",
       "</style>\n",
       "<table border=\"1\" class=\"dataframe\">\n",
       "  <thead>\n",
       "    <tr style=\"text-align: right;\">\n",
       "      <th></th>\n",
       "      <th>PLAY_DATE</th>\n",
       "      <th>PLAY_NAME</th>\n",
       "      <th>THEATER_NAME</th>\n",
       "      <th>PLAY_CATEGORY</th>\n",
       "      <th>IS_GUEST_PLAY</th>\n",
       "      <th>PLAY_TYPE</th>\n",
       "      <th>LONGITUDE</th>\n",
       "      <th>LATITUDE</th>\n",
       "      <th>NUMBER_OF_AUDIENCE</th>\n",
       "      <th>NUM_AUDIENCE_LOG</th>\n",
       "      <th>...</th>\n",
       "      <th>PLAY_DAY_Sunday</th>\n",
       "      <th>PLAY_MONTH_2</th>\n",
       "      <th>PLAY_MONTH_3</th>\n",
       "      <th>PLAY_MONTH_4</th>\n",
       "      <th>PLAY_MONTH_5</th>\n",
       "      <th>PLAY_MONTH_6</th>\n",
       "      <th>PLAY_MONTH_9</th>\n",
       "      <th>PLAY_MONTH_10</th>\n",
       "      <th>PLAY_MONTH_11</th>\n",
       "      <th>PLAY_MONTH_12</th>\n",
       "    </tr>\n",
       "  </thead>\n",
       "  <tbody>\n",
       "    <tr>\n",
       "      <th>0</th>\n",
       "      <td>2017-12-27</td>\n",
       "      <td>KARAGÖZ' ÜN UYKUSU</td>\n",
       "      <td>Gaziosmanpaşa</td>\n",
       "      <td>Çocuk</td>\n",
       "      <td>0</td>\n",
       "      <td>0</td>\n",
       "      <td>28.916482</td>\n",
       "      <td>41.057846</td>\n",
       "      <td>50</td>\n",
       "      <td>3.912023</td>\n",
       "      <td>...</td>\n",
       "      <td>0</td>\n",
       "      <td>0</td>\n",
       "      <td>0</td>\n",
       "      <td>0</td>\n",
       "      <td>0</td>\n",
       "      <td>0</td>\n",
       "      <td>0</td>\n",
       "      <td>0</td>\n",
       "      <td>0</td>\n",
       "      <td>1</td>\n",
       "    </tr>\n",
       "    <tr>\n",
       "      <th>1</th>\n",
       "      <td>2019-03-28</td>\n",
       "      <td>ŞAHANE ZÜĞÜRTLER</td>\n",
       "      <td>Kadıköy</td>\n",
       "      <td>Yetişkin</td>\n",
       "      <td>0</td>\n",
       "      <td>1</td>\n",
       "      <td>29.023408</td>\n",
       "      <td>40.991770</td>\n",
       "      <td>1</td>\n",
       "      <td>0.000000</td>\n",
       "      <td>...</td>\n",
       "      <td>0</td>\n",
       "      <td>0</td>\n",
       "      <td>1</td>\n",
       "      <td>0</td>\n",
       "      <td>0</td>\n",
       "      <td>0</td>\n",
       "      <td>0</td>\n",
       "      <td>0</td>\n",
       "      <td>0</td>\n",
       "      <td>0</td>\n",
       "    </tr>\n",
       "    <tr>\n",
       "      <th>2</th>\n",
       "      <td>2017-11-30</td>\n",
       "      <td>BAK BİZİM ŞARKIMIZI ÇALIYORLAR</td>\n",
       "      <td>Kağıthane</td>\n",
       "      <td>Müzikal</td>\n",
       "      <td>0</td>\n",
       "      <td>1</td>\n",
       "      <td>28.970972</td>\n",
       "      <td>41.079366</td>\n",
       "      <td>84</td>\n",
       "      <td>4.430817</td>\n",
       "      <td>...</td>\n",
       "      <td>0</td>\n",
       "      <td>0</td>\n",
       "      <td>0</td>\n",
       "      <td>0</td>\n",
       "      <td>0</td>\n",
       "      <td>0</td>\n",
       "      <td>0</td>\n",
       "      <td>0</td>\n",
       "      <td>1</td>\n",
       "      <td>0</td>\n",
       "    </tr>\n",
       "    <tr>\n",
       "      <th>3</th>\n",
       "      <td>2020-01-24</td>\n",
       "      <td>ÇIN SABAHTA</td>\n",
       "      <td>Gaziosmanpaşa</td>\n",
       "      <td>Yetişkin</td>\n",
       "      <td>0</td>\n",
       "      <td>0</td>\n",
       "      <td>28.916482</td>\n",
       "      <td>41.057846</td>\n",
       "      <td>46</td>\n",
       "      <td>3.828641</td>\n",
       "      <td>...</td>\n",
       "      <td>0</td>\n",
       "      <td>0</td>\n",
       "      <td>0</td>\n",
       "      <td>0</td>\n",
       "      <td>0</td>\n",
       "      <td>0</td>\n",
       "      <td>0</td>\n",
       "      <td>0</td>\n",
       "      <td>0</td>\n",
       "      <td>0</td>\n",
       "    </tr>\n",
       "    <tr>\n",
       "      <th>4</th>\n",
       "      <td>2019-01-27</td>\n",
       "      <td>POLLYANNA</td>\n",
       "      <td>Kağıthane</td>\n",
       "      <td>Çocuk</td>\n",
       "      <td>0</td>\n",
       "      <td>1</td>\n",
       "      <td>28.970972</td>\n",
       "      <td>41.079366</td>\n",
       "      <td>150</td>\n",
       "      <td>5.010635</td>\n",
       "      <td>...</td>\n",
       "      <td>1</td>\n",
       "      <td>0</td>\n",
       "      <td>0</td>\n",
       "      <td>0</td>\n",
       "      <td>0</td>\n",
       "      <td>0</td>\n",
       "      <td>0</td>\n",
       "      <td>0</td>\n",
       "      <td>0</td>\n",
       "      <td>0</td>\n",
       "    </tr>\n",
       "  </tbody>\n",
       "</table>\n",
       "<p>5 rows × 43 columns</p>\n",
       "</div>"
      ],
      "text/plain": [
       "   PLAY_DATE                       PLAY_NAME   THEATER_NAME PLAY_CATEGORY  \\\n",
       "0 2017-12-27              KARAGÖZ' ÜN UYKUSU  Gaziosmanpaşa         Çocuk   \n",
       "1 2019-03-28                ŞAHANE ZÜĞÜRTLER        Kadıköy      Yetişkin   \n",
       "2 2017-11-30  BAK BİZİM ŞARKIMIZI ÇALIYORLAR      Kağıthane       Müzikal   \n",
       "3 2020-01-24                     ÇIN SABAHTA  Gaziosmanpaşa      Yetişkin   \n",
       "4 2019-01-27                       POLLYANNA      Kağıthane         Çocuk   \n",
       "\n",
       "   IS_GUEST_PLAY  PLAY_TYPE  LONGITUDE   LATITUDE  NUMBER_OF_AUDIENCE  \\\n",
       "0              0          0  28.916482  41.057846                  50   \n",
       "1              0          1  29.023408  40.991770                   1   \n",
       "2              0          1  28.970972  41.079366                  84   \n",
       "3              0          0  28.916482  41.057846                  46   \n",
       "4              0          1  28.970972  41.079366                 150   \n",
       "\n",
       "   NUM_AUDIENCE_LOG  ...  PLAY_DAY_Sunday  PLAY_MONTH_2 PLAY_MONTH_3  \\\n",
       "0          3.912023  ...                0             0            0   \n",
       "1          0.000000  ...                0             0            1   \n",
       "2          4.430817  ...                0             0            0   \n",
       "3          3.828641  ...                0             0            0   \n",
       "4          5.010635  ...                1             0            0   \n",
       "\n",
       "   PLAY_MONTH_4  PLAY_MONTH_5  PLAY_MONTH_6  PLAY_MONTH_9  PLAY_MONTH_10  \\\n",
       "0             0             0             0             0              0   \n",
       "1             0             0             0             0              0   \n",
       "2             0             0             0             0              0   \n",
       "3             0             0             0             0              0   \n",
       "4             0             0             0             0              0   \n",
       "\n",
       "   PLAY_MONTH_11  PLAY_MONTH_12  \n",
       "0              0              1  \n",
       "1              0              0  \n",
       "2              1              0  \n",
       "3              0              0  \n",
       "4              0              0  \n",
       "\n",
       "[5 rows x 43 columns]"
      ]
     },
     "execution_count": 38,
     "metadata": {},
     "output_type": "execute_result"
    }
   ],
   "source": [
    "for col in ['THEATER_NAME','PLAY_YEAR', 'PLAY_YEAR', 'PLAY_DAY', 'PLAY_MONTH']:\n",
    "    temp = pd.get_dummies(df[col], drop_first=True, prefix=col)\n",
    "    df = pd.concat([df, temp], axis=1)\n",
    "df.head()"
   ]
  },
  {
   "cell_type": "code",
   "execution_count": 39,
   "id": "78ca508f",
   "metadata": {},
   "outputs": [],
   "source": [
    "#Drop Longitude, Latitude Cols as we already have theater name indicating location. Also drop the date column\n",
    "X = df.drop(['PLAY_DATE', 'LONGITUDE', 'LATITUDE', 'NUMBER_OF_AUDIENCE', 'PLAY_CATEGORY', 'THEATER_NAME','PLAY_YEAR', 'PLAY_YEAR', 'PLAY_DAY', 'PLAY_MONTH', 'PLAY_NAME'], axis=1)\n",
    "y = df['PLAY_CATEGORY']"
   ]
  },
  {
   "cell_type": "code",
   "execution_count": 40,
   "id": "560ba010",
   "metadata": {},
   "outputs": [
    {
     "data": {
      "text/plain": [
       "((18680, 33), (8006, 33), (18680,), (8006,))"
      ]
     },
     "execution_count": 40,
     "metadata": {},
     "output_type": "execute_result"
    }
   ],
   "source": [
    "X_train, X_test, y_train, y_test = train_test_split(X, y, test_size=0.3, stratify=y, random_state=123)\n",
    "X_train.shape, X_test.shape, y_train.shape, y_test.shape"
   ]
  },
  {
   "cell_type": "markdown",
   "id": "d8cb42dd",
   "metadata": {},
   "source": [
    "### Scaling of Numberic Variable"
   ]
  },
  {
   "cell_type": "code",
   "execution_count": 41,
   "id": "e078a848",
   "metadata": {},
   "outputs": [
    {
     "name": "stderr",
     "output_type": "stream",
     "text": [
      "C:\\Users\\TCLSOY~1\\AppData\\Local\\Temp/ipykernel_12224/4128868877.py:2: SettingWithCopyWarning: \n",
      "A value is trying to be set on a copy of a slice from a DataFrame.\n",
      "Try using .loc[row_indexer,col_indexer] = value instead\n",
      "\n",
      "See the caveats in the documentation: https://pandas.pydata.org/pandas-docs/stable/user_guide/indexing.html#returning-a-view-versus-a-copy\n",
      "  X_train['NUM_AUDIENCE_LOG'] = scaler.fit_transform(X_train[['NUM_AUDIENCE_LOG']])\n",
      "C:\\Users\\TCLSOY~1\\AppData\\Local\\Temp/ipykernel_12224/4128868877.py:3: SettingWithCopyWarning: \n",
      "A value is trying to be set on a copy of a slice from a DataFrame.\n",
      "Try using .loc[row_indexer,col_indexer] = value instead\n",
      "\n",
      "See the caveats in the documentation: https://pandas.pydata.org/pandas-docs/stable/user_guide/indexing.html#returning-a-view-versus-a-copy\n",
      "  X_test['NUM_AUDIENCE_LOG'] = scaler.transform(X_test[['NUM_AUDIENCE_LOG']])\n"
     ]
    }
   ],
   "source": [
    "scaler = StandardScaler()\n",
    "X_train['NUM_AUDIENCE_LOG'] = scaler.fit_transform(X_train[['NUM_AUDIENCE_LOG']])\n",
    "X_test['NUM_AUDIENCE_LOG'] = scaler.transform(X_test[['NUM_AUDIENCE_LOG']])"
   ]
  },
  {
   "cell_type": "code",
   "execution_count": 44,
   "id": "73fca5b9",
   "metadata": {},
   "outputs": [
    {
     "data": {
      "text/plain": [
       "RandomForestClassifier()"
      ]
     },
     "execution_count": 44,
     "metadata": {},
     "output_type": "execute_result"
    }
   ],
   "source": [
    "rfc = RandomForestClassifier()\n",
    "rfc.fit(X_train, y_train)"
   ]
  },
  {
   "cell_type": "code",
   "execution_count": 45,
   "id": "20650502",
   "metadata": {},
   "outputs": [
    {
     "name": "stdout",
     "output_type": "stream",
     "text": [
      "              precision    recall  f1-score   support\n",
      "\n",
      "     Müzikal       0.41      0.36      0.38       758\n",
      "    Yetişkin       0.75      0.79      0.77      5072\n",
      "       Çocuk       0.52      0.49      0.50      2176\n",
      "\n",
      "    accuracy                           0.67      8006\n",
      "   macro avg       0.56      0.55      0.55      8006\n",
      "weighted avg       0.66      0.67      0.66      8006\n",
      "\n"
     ]
    }
   ],
   "source": [
    "y_pred = rfc.predict(X_test)\n",
    "print(classification_report(y_test, y_pred))"
   ]
  },
  {
   "cell_type": "code",
   "execution_count": 46,
   "id": "ff0ebf33",
   "metadata": {},
   "outputs": [
    {
     "data": {
      "text/plain": [
       "Yetişkin    0.633478\n",
       "Çocuk       0.271790\n",
       "Müzikal     0.094731\n",
       "Name: PLAY_CATEGORY, dtype: float64"
      ]
     },
     "execution_count": 46,
     "metadata": {},
     "output_type": "execute_result"
    }
   ],
   "source": [
    "df['PLAY_CATEGORY'].value_counts(normalize=True)"
   ]
  },
  {
   "cell_type": "code",
   "execution_count": 47,
   "id": "be5a73f4",
   "metadata": {},
   "outputs": [
    {
     "data": {
      "image/png": "[encoded data removed]",
      "text/plain": [
       "<Figure size 1080x720 with 1 Axes>"
      ]
     },
     "metadata": {
      "needs_background": "light"
     },
     "output_type": "display_data"
    }
   ],
   "source": [
    "fig, ax = plt.subplots(figsize=(15,10))\n",
    "feature_df = pd.DataFrame({'feature_name': X_train.columns, 'importance': rfc.feature_importances_}).sort_values(by='importance', ascending=False).iloc[:10,:]\n",
    "sns.barplot(x='importance', y='feature_name', data=feature_df, color='r', ax=ax);"
   ]
  },
  {
   "cell_type": "markdown",
   "id": "9479a124",
   "metadata": {},
   "source": [
    "We can see that play type and number of audience are the main features affecting our prediction"
   ]
  },
  {
   "cell_type": "code",
   "execution_count": null,
   "id": "7eec21ca",
   "metadata": {},
   "outputs": [],
   "source": []
  }
 ],
 "metadata": {
  "kernelspec": {
   "display_name": "Python 3 (ipykernel)",
   "language": "python",
   "name": "python3"
  },
  "language_info": {
   "codemirror_mode": {
    "name": "ipython",
    "version": 3
   },
   "file_extension": ".py",
   "mimetype": "text/x-python",
   "name": "python",
   "nbconvert_exporter": "python",
   "pygments_lexer": "ipython3",
   "version": "3.9.2"
  }
 },
 "nbformat": 4,
 "nbformat_minor": 5
}
